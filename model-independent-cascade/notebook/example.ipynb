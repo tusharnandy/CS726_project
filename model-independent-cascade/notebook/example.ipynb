{
 "cells": [
  {
   "cell_type": "code",
   "execution_count": 1,
   "metadata": {},
   "outputs": [],
   "source": [
    "# Packages\n",
    "import sys; sys.path.append('..')\n",
    "import src.seed as seed\n",
    "from src.data import data_load\n",
    "from src.influence import influence_count"
   ]
  },
  {
   "cell_type": "code",
   "execution_count": 3,
   "metadata": {},
   "outputs": [],
   "source": [
    "# Parameters\n",
    "path = '../data/example.txt'  # dataset file path\n",
    "init_rate = 0.01  # initial influence rate, recommend from 0 to 0.05\n",
    "threshold = 1  # threshold of influence, recommend from 0 to 1\n",
    "\n",
    "# Seed selection policy, option: 'degree', 'random',\n",
    "# 'degree_discount', 'degree_neighbor', 'degree_neighbor_fix', 'mia'\n",
    "policy = 'degree_discount'  "
   ]
  },
  {
   "cell_type": "code",
   "execution_count": 4,
   "metadata": {},
   "outputs": [
    {
     "name": "stdout",
     "output_type": "stream",
     "text": [
      "Number of Nodes: 75879\n",
      "Number of Edges: 508837\n",
      "Number of Seeds: 758\n"
     ]
    }
   ],
   "source": [
    "# Seed selection\n",
    "nodes, edges = data_load(path)\n",
    "seeds_number = int(len(nodes) * init_rate)\n",
    "if policy == 'degree':\n",
    "    seeds = seed.degree(edges, seeds_number)\n",
    "elif policy == 'random':\n",
    "    seeds = seed.random(nodes, seeds_number)\n",
    "elif policy == 'degree_discount':\n",
    "    seeds = seed.degree_discount(edges, seeds_number)\n",
    "elif policy == 'degree_neighbor':\n",
    "    seeds = seed.degree_neighbor(edges, seeds_number)\n",
    "elif policy == 'degree_neighbor_fix':\n",
    "    seeds = seed.degree_neighbor_fix(edges, seeds_number)\n",
    "elif policy == 'mia':\n",
    "    seeds = seed.mia(nodes, edges, seeds_number)\n",
    "else: \n",
    "    raise NameError(\"Unknown policy\")\n",
    "print(f'Number of Seeds: {len(seeds)}')"
   ]
  },
  {
   "cell_type": "code",
   "execution_count": 6,
   "metadata": {},
   "outputs": [
    {
     "name": "stdout",
     "output_type": "stream",
     "text": [
      "Final Influence Number: 19835\n"
     ]
    }
   ],
   "source": [
    "# Calculate Influence\n",
    "influence_number = influence_count(nodes, edges, seeds, threshold)\n",
    "print(f'Final Influence Number: {influence_number}')"
   ]
  }
 ],
 "metadata": {
  "interpreter": {
   "hash": "6351584294848f066da2286fc4d9a9ed603fafa7b7f7c385316cfa51841525d1"
  },
  "kernelspec": {
   "display_name": "Python 3.9.7 ('py9')",
   "language": "python",
   "name": "python3"
  },
  "language_info": {
   "codemirror_mode": {
    "name": "ipython",
    "version": 3
   },
   "file_extension": ".py",
   "mimetype": "text/x-python",
   "name": "python",
   "nbconvert_exporter": "python",
   "pygments_lexer": "ipython3",
   "version": "3.8.10"
  },
  "orig_nbformat": 4
 },
 "nbformat": 4,
 "nbformat_minor": 2
}
