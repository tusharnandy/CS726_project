{
 "cells": [
  {
   "cell_type": "code",
   "execution_count": null,
   "metadata": {},
   "outputs": [],
   "source": [
    "import utils\n",
    "import networkx as nx\n",
    "import matplotlib.pyplot as plt"
   ]
  },
  {
   "cell_type": "code",
   "execution_count": null,
   "metadata": {},
   "outputs": [],
   "source": [
    "OPERATIONS = {\n",
    "    0: \"S3\", # 3x3\n",
    "    1: \"S5\", # 5x5\n",
    "    2: \"A2\", # 3x3\n",
    "    3: \"M2\", # 3x3\n",
    "    4: \"Id\",\n",
    "}\n"
   ]
  },
  {
   "cell_type": "code",
   "execution_count": null,
   "metadata": {},
   "outputs": [
    {
     "name": "stdout",
     "output_type": "stream",
     "text": [
      "[0, 4, 1, 0, 1, 1, 2, 1, 0, 2, 0, 0, 4, 2, 4, 3, 1, 0, 3, 4]\n",
      "[1, 11, 2, 7, 2, 8, 3, 8, 1, 9, 1, 7, 5, 9, 5, 10, 2, 7, 4, 11]\n"
     ]
    }
   ],
   "source": [
    "arch = utils.generate_arch(1, 5, 5)\n",
    "print(arch[0][0])\n",
    "seqc = utils.parse_arch_to_seq(arch[0][0], 2)\n",
    "print(seqc)"
   ]
  },
  {
   "cell_type": "code",
   "execution_count": null,
   "metadata": {},
   "outputs": [
    {
     "name": "stdout",
     "output_type": "stream",
     "text": [
      "0 1\n"
     ]
    },
    {
     "data": {
      "image/png": "[encoded data removed]",
      "text/plain": [
       "<Figure size 432x288 with 1 Axes>"
      ]
     },
     "metadata": {},
     "output_type": "display_data"
    }
   ],
   "source": [
    "Gc = nx.DiGraph()\n",
    "added_nodes = set()\n",
    "counter = \n",
    "for i in range(5):\n",
    "    p1, op1, p2, op2 = seqc[4*i:4*i+4]\n",
    "    p1 = p1 - 1\n",
    "    p2 = p2 - 1\n",
    "    op1 = op1 - 7\n",
    "    op1_name = OPERATIONS[op1]\n",
    "    op2 = op2 - 7\n",
    "    op2_name = OPERATIONS[op2]\n",
    "    print(p1, p2)\n",
    "    if p1 not in added_nodes:\n",
    "        if p1 == 0:\n",
    "            Gc.add_node(\"h_i-1\")\n",
    "            added_nodes.add(p1)\n",
    "        elif p1 == 1:\n",
    "            Gc.add_node(\"h_i\")\n",
    "            added_nodes.add(p1)\n",
    "        else:\n",
    "            Gc.add_node(\"add\")\n",
    "\n",
    "    if p2 not in added_nodes:\n",
    "        if p2 == 0:\n",
    "            Gc.add_node(\"h_i-1\")\n",
    "            added_nodes.add(p2)\n",
    "        elif p2 == 1:\n",
    "            Gc.add_node(\"h_i\")\n",
    "            added_nodes.add(p2)\n",
    "        else:\n",
    "            Gc.add_node(\"add\")\n",
    "\n",
    "    Gc.add_node(op1_name)\n",
    "    Gc.add_edge(p1, op1_name)\n",
    "    Gc.add_node(op2_name)\n",
    "    Gc.add_edge(p2, op2_name)\n",
    "\n",
    "    break\n",
    "        \n",
    "    \n",
    "\n",
    "nx.draw(Gc, with_labels=True)"
   ]
  },
  {
   "cell_type": "code",
   "execution_count": null,
   "metadata": {},
   "outputs": [],
   "source": []
  }
 ],
 "metadata": {
  "interpreter": {
   "hash": "7e0474399e121648ddcb0eab036da2a3cd16eac2574dc051ad9106ba67323f30"
  },
  "kernelspec": {
   "display_name": "Python 3.8.5 ('nass')",
   "language": "python",
   "name": "python3"
  },
  "language_info": {
   "codemirror_mode": {
    "name": "ipython",
    "version": 3
   },
   "file_extension": ".py",
   "mimetype": "text/x-python",
   "name": "python",
   "nbconvert_exporter": "python",
   "pygments_lexer": "ipython3",
   "version": "3.8.5"
  },
  "orig_nbformat": 4
 },
 "nbformat": 4,
 "nbformat_minor": 2
}
