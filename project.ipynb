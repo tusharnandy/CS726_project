{
  "cells": [
    {
      "cell_type": "code",
      "execution_count": 1,
      "metadata": {
        "id": "PWM6UO_11gMZ"
      },
      "outputs": [],
      "source": [
        "import networkx as nx\n",
        "import numpy as np"
      ]
    },
    {
      "cell_type": "code",
      "execution_count": 3,
      "metadata": {
        "id": "Hp8JVklT1gMb"
      },
      "outputs": [],
      "source": [
        "f = open(\"flickrEdges.txt\")\n",
        "lines = f.readlines()\n",
        "edges = []\n",
        "\n",
        "count = 0\n",
        "for line in lines:\n",
        "    if line[0] != \"#\":\n",
        "        a, b = line.split(\"\\n\")[0].split(\" \")\n",
        "        edges.append((int(a), int(b)))\n",
        "    if count == 1000:\n",
        "        break\n",
        "    count += 1\n"
      ]
    },
    {
      "cell_type": "code",
      "execution_count": 4,
      "metadata": {
        "id": "CAiWQBiW1gMc"
      },
      "outputs": [],
      "source": [
        "G = nx.Graph()\n",
        "G.add_edges_from(edges)\n",
        "G = nx.convert_node_labels_to_integers(G)"
      ]
    },
    {
      "cell_type": "code",
      "execution_count": 5,
      "metadata": {
        "colab": {
          "base_uri": "https://localhost:8080/"
        },
        "id": "a6HT5SCt1gMd",
        "outputId": "9d6f0b65-f137-4d72-8265-325310597d1c"
      },
      "outputs": [
        {
          "output_type": "stream",
          "name": "stdout",
          "text": [
            "1837\n",
            "997\n"
          ]
        }
      ],
      "source": [
        "print(G.number_of_nodes())\n",
        "print(G.number_of_edges())"
      ]
    },
    {
      "cell_type": "code",
      "execution_count": 6,
      "metadata": {
        "colab": {
          "base_uri": "https://localhost:8080/"
        },
        "id": "xWSkMuS_1gMe",
        "outputId": "a7321671-defa-42cd-ee2c-048855aeef03"
      },
      "outputs": [
        {
          "output_type": "execute_result",
          "data": {
            "text/plain": [
              "[0, 1698, 124, 14, 0, 0, 1]"
            ]
          },
          "metadata": {},
          "execution_count": 6
        }
      ],
      "source": [
        "nx.degree_histogram(G)"
      ]
    },
    {
      "cell_type": "code",
      "execution_count": 7,
      "metadata": {
        "id": "gvob8qb71gMf"
      },
      "outputs": [],
      "source": [
        "d = 8"
      ]
    },
    {
      "cell_type": "code",
      "execution_count": 8,
      "metadata": {
        "colab": {
          "base_uri": "https://localhost:8080/"
        },
        "id": "ssTGh-KW1gMg",
        "outputId": "71ed94d8-366e-488b-a895-e173309147f1"
      },
      "outputs": [
        {
          "output_type": "execute_result",
          "data": {
            "text/plain": [
              "1.8856080718903774"
            ]
          },
          "metadata": {},
          "execution_count": 8
        }
      ],
      "source": [
        "alpha = np.random.random((1,d))\n",
        "# alpha = alpha/np.linalg.norm(alpha)\n",
        "np.linalg.norm(alpha)"
      ]
    },
    {
      "cell_type": "code",
      "source": [
        "#Assigning alpha and beta\n",
        "d = 5 # dimension of features\n",
        "alpha = np.zeros((len(G.nodes), d))\n",
        "beta = np.zeros((len(G.nodes), d))\n",
        "for i in range(len(G.nodes)):\n",
        "  alpha[i,:] = np.random.uniform(size = d)\n",
        "  alpha[i] = alpha[i]/np.linalg.norm(alpha[i])\n",
        "  beta[i,:] = np.random.uniform(size = d)\n",
        "  beta[i] = beta[i]/np.linalg.norm(beta[i])\n",
        "\n",
        "def prob_edge(node1, node2, alpha, beta):\n",
        "  if (node1 not in G.neighbors(node2)):\n",
        "    return 0\n",
        "  p_e = np.dot(alpha[node1], beta[node2])\n",
        "  return p_e"
      ],
      "metadata": {
        "id": "riXsm-ib1xEJ"
      },
      "execution_count": 27,
      "outputs": []
    },
    {
      "cell_type": "code",
      "source": [
        "print(prob_edge(1,0, alpha, beta))"
      ],
      "metadata": {
        "colab": {
          "base_uri": "https://localhost:8080/"
        },
        "id": "n22-nTct3kmX",
        "outputId": "fe1a1bb5-0035-47b7-aca3-e3041fce7989"
      },
      "execution_count": 35,
      "outputs": [
        {
          "output_type": "stream",
          "name": "stdout",
          "text": [
            "0.8513510690394064\n"
          ]
        }
      ]
    },
    {
      "cell_type": "code",
      "source": [
        ""
      ],
      "metadata": {
        "id": "h0FxGb-y4ciL"
      },
      "execution_count": null,
      "outputs": []
    }
  ],
  "metadata": {
    "interpreter": {
      "hash": "a3a599584a827595ed2b43e83eeb56630276a85ab0e80f75e90a8335136f15b9"
    },
    "kernelspec": {
      "display_name": "Python 3.8.10 64-bit (windows store)",
      "language": "python",
      "name": "python3"
    },
    "language_info": {
      "codemirror_mode": {
        "name": "ipython",
        "version": 3
      },
      "file_extension": ".py",
      "mimetype": "text/x-python",
      "name": "python",
      "nbconvert_exporter": "python",
      "pygments_lexer": "ipython3",
      "version": "3.8.10"
    },
    "orig_nbformat": 4,
    "colab": {
      "name": "project.ipynb",
      "provenance": []
    }
  },
  "nbformat": 4,
  "nbformat_minor": 0
}