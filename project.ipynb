{
  "cells": [
    {
      "cell_type": "code",
      "execution_count": 1,
      "metadata": {
        "id": "PWM6UO_11gMZ"
      },
      "outputs": [],
      "source": [
        "import networkx as nx\n",
        "import numpy as np"
      ]
    },
    {
      "cell_type": "code",
      "execution_count": 2,
      "metadata": {
        "id": "Hp8JVklT1gMb"
      },
      "outputs": [
        {
          "ename": "FileNotFoundError",
          "evalue": "[Errno 2] No such file or directory: 'flickrEdges.txt'",
          "output_type": "error",
          "traceback": [
            "\u001b[1;31m---------------------------------------------------------------------------\u001b[0m",
            "\u001b[1;31mFileNotFoundError\u001b[0m                         Traceback (most recent call last)",
            "\u001b[1;32m~\\AppData\\Local\\Temp/ipykernel_22760/2305779209.py\u001b[0m in \u001b[0;36m<module>\u001b[1;34m\u001b[0m\n\u001b[1;32m----> 1\u001b[1;33m \u001b[0mf\u001b[0m \u001b[1;33m=\u001b[0m \u001b[0mopen\u001b[0m\u001b[1;33m(\u001b[0m\u001b[1;34m\"flickrEdges.txt\"\u001b[0m\u001b[1;33m)\u001b[0m\u001b[1;33m\u001b[0m\u001b[1;33m\u001b[0m\u001b[0m\n\u001b[0m\u001b[0;32m      2\u001b[0m \u001b[0mlines\u001b[0m \u001b[1;33m=\u001b[0m \u001b[0mf\u001b[0m\u001b[1;33m.\u001b[0m\u001b[0mreadlines\u001b[0m\u001b[1;33m(\u001b[0m\u001b[1;33m)\u001b[0m\u001b[1;33m\u001b[0m\u001b[1;33m\u001b[0m\u001b[0m\n\u001b[0;32m      3\u001b[0m \u001b[0medges\u001b[0m \u001b[1;33m=\u001b[0m \u001b[1;33m[\u001b[0m\u001b[1;33m]\u001b[0m\u001b[1;33m\u001b[0m\u001b[1;33m\u001b[0m\u001b[0m\n\u001b[0;32m      4\u001b[0m \u001b[1;33m\u001b[0m\u001b[0m\n\u001b[0;32m      5\u001b[0m \u001b[0mcount\u001b[0m \u001b[1;33m=\u001b[0m \u001b[1;36m0\u001b[0m\u001b[1;33m\u001b[0m\u001b[1;33m\u001b[0m\u001b[0m\n",
            "\u001b[1;31mFileNotFoundError\u001b[0m: [Errno 2] No such file or directory: 'flickrEdges.txt'"
          ]
        }
      ],
      "source": [
        "f = open(\"flickrEdges.txt\")\n",
        "lines = f.readlines()\n",
        "edges = []\n",
        "\n",
        "count = 0\n",
        "for line in lines:\n",
        "    if line[0] != \"#\":\n",
        "        a, b = line.split(\"\\n\")[0].split(\" \")\n",
        "        edges.append((int(a), int(b)))\n",
        "    if count == 1000:\n",
        "        break\n",
        "    count += 1\n"
      ]
    },
    {
      "cell_type": "code",
      "execution_count": 4,
      "metadata": {
        "id": "CAiWQBiW1gMc"
      },
      "outputs": [],
      "source": [
        "G = nx.DiGraph()\n",
        "G.add_edges_from(edges)\n",
        "G = nx.convert_node_labels_to_integers(G)"
      ]
    },
    {
      "cell_type": "code",
      "execution_count": 5,
      "metadata": {
        "colab": {
          "base_uri": "https://localhost:8080/"
        },
        "id": "a6HT5SCt1gMd",
        "outputId": "9d6f0b65-f137-4d72-8265-325310597d1c"
      },
      "outputs": [
        {
          "name": "stdout",
          "output_type": "stream",
          "text": [
            "1837\n",
            "997\n"
          ]
        }
      ],
      "source": [
        "print(G.number_of_nodes())\n",
        "print(G.number_of_edges())"
      ]
    },
    {
      "cell_type": "code",
      "execution_count": 6,
      "metadata": {
        "colab": {
          "base_uri": "https://localhost:8080/"
        },
        "id": "xWSkMuS_1gMe",
        "outputId": "a7321671-defa-42cd-ee2c-048855aeef03"
      },
      "outputs": [
        {
          "data": {
            "text/plain": [
              "[0, 1698, 124, 14, 0, 0, 1]"
            ]
          },
          "execution_count": 6,
          "metadata": {},
          "output_type": "execute_result"
        }
      ],
      "source": [
        "nx.degree_histogram(G)"
      ]
    },
    {
      "cell_type": "code",
      "execution_count": 7,
      "metadata": {
        "id": "gvob8qb71gMf"
      },
      "outputs": [],
      "source": [
        "d = 8"
      ]
    },
    {
      "cell_type": "code",
      "execution_count": 8,
      "metadata": {
        "colab": {
          "base_uri": "https://localhost:8080/"
        },
        "id": "ssTGh-KW1gMg",
        "outputId": "71ed94d8-366e-488b-a895-e173309147f1"
      },
      "outputs": [
        {
          "data": {
            "text/plain": [
              "1.8856080718903774"
            ]
          },
          "execution_count": 8,
          "metadata": {},
          "output_type": "execute_result"
        }
      ],
      "source": [
        "alpha = np.random.random((1,d))\n",
        "# alpha = alpha/np.linalg.norm(alpha)\n",
        "np.linalg.norm(alpha)"
      ]
    },
    {
      "cell_type": "code",
      "execution_count": 27,
      "metadata": {
        "id": "riXsm-ib1xEJ"
      },
      "outputs": [],
      "source": [
        "#Assigning alpha and beta\n",
        "d = 5 # dimension of features\n",
        "alpha = np.zeros((len(G.nodes), d))\n",
        "beta = np.zeros((len(G.nodes), d))\n",
        "for i in range(len(G.nodes)):\n",
        "  alpha[i,:] = np.random.uniform(size = d)\n",
        "  alpha[i] = alpha[i]/np.linalg.norm(alpha[i])\n",
        "  beta[i,:] = np.random.uniform(size = d)\n",
        "  beta[i] = beta[i]/np.linalg.norm(beta[i])\n",
        "\n",
        "def prob_edge(node1, node2, alpha, beta):\n",
        "  if (node1 not in G.neighbors(node2)):\n",
        "    return 0\n",
        "  p_e = np.dot(alpha[node1], beta[node2])\n",
        "  return p_e"
      ]
    },
    {
      "cell_type": "code",
      "execution_count": 35,
      "metadata": {
        "colab": {
          "base_uri": "https://localhost:8080/"
        },
        "id": "n22-nTct3kmX",
        "outputId": "fe1a1bb5-0035-47b7-aca3-e3041fce7989"
      },
      "outputs": [
        {
          "name": "stdout",
          "output_type": "stream",
          "text": [
            "0.8513510690394064\n"
          ]
        }
      ],
      "source": [
        "print(prob_edge(1,0, alpha, beta))"
      ]
    },
    {
      "cell_type": "code",
      "execution_count": null,
      "metadata": {
        "id": "h0FxGb-y4ciL"
      },
      "outputs": [],
      "source": [
        "def sample_edges(G, C, P_hat, )"
      ]
    }
  ],
  "metadata": {
    "colab": {
      "name": "project.ipynb",
      "provenance": []
    },
    "interpreter": {
      "hash": "a3a599584a827595ed2b43e83eeb56630276a85ab0e80f75e90a8335136f15b9"
    },
    "kernelspec": {
      "display_name": "Python 3.8.10 64-bit (windows store)",
      "language": "python",
      "name": "python3"
    },
    "language_info": {
      "codemirror_mode": {
        "name": "ipython",
        "version": 3
      },
      "file_extension": ".py",
      "mimetype": "text/x-python",
      "name": "python",
      "nbconvert_exporter": "python",
      "pygments_lexer": "ipython3",
      "version": "3.8.10"
    },
    "orig_nbformat": 4
  },
  "nbformat": 4,
  "nbformat_minor": 0
}
