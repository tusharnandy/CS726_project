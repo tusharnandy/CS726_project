{
 "cells": [
  {
   "cell_type": "markdown",
   "metadata": {},
   "source": [
    "# DegreeDiscountIC (a.k.a the ORACLE)"
   ]
  },
  {
   "cell_type": "code",
   "execution_count": 1,
   "metadata": {},
   "outputs": [],
   "source": [
    "import networkx as nx\n",
    "import numpy as np\n",
    "from numpy.random import default_rng\n",
    "rng = default_rng(12345)\n",
    "import matplotlib.pyplot as plt\n",
    "import sys; sys.path.append(\"model-independent-cascade\\src\")\n",
    "from influence import influence_count\n",
    "from scipy.stats import norm"
   ]
  },
  {
   "cell_type": "markdown",
   "metadata": {},
   "source": [
    "Generating a random graph to test-run the model"
   ]
  },
  {
   "cell_type": "code",
   "execution_count": 2,
   "metadata": {},
   "outputs": [],
   "source": [
    "G = nx.fast_gnp_random_graph(300, 0.1, directed=True)\n",
    "edges = list(G.edges())"
   ]
  },
  {
   "cell_type": "code",
   "execution_count": 3,
   "metadata": {},
   "outputs": [],
   "source": [
    "def sample_edges(edges, C, P_hat, O):\n",
    "    epo = [(edges[i], P_hat[i], O[i]) for i in range(len(edges))]\n",
    "    E = [[] for i in range(10)]\n",
    "    for i in range(len(edges)):\n",
    "        index = min(int(epo[i][1]/0.1), 9)\n",
    "        E[index].append(epo[i])\n",
    "    E_hat = []\n",
    "    for i in range(10):\n",
    "        E[i].sort(key=lambda tuple: tuple[2], reverse=True)\n",
    "        c_i = int(len(E[i])/(len(edges))*C)+1\n",
    "        E_hat = E_hat + E[i][:c_i]\n",
    "\n",
    "    return E_hat"
   ]
  },
  {
   "cell_type": "code",
   "execution_count": 4,
   "metadata": {},
   "outputs": [],
   "source": [
    "def oracle(G, k, P):\n",
    "    S = set({})\n",
    "    temp = list(nx.degree(G))\n",
    "    dd = d = [d for (_,d) in temp]\n",
    "    t = [0 for _ in range(len(d))]\n",
    "\n",
    "    for _ in range(k):\n",
    "        u = np.argmax(dd)\n",
    "        dd[u] = -1\n",
    "        S.add(u)\n",
    "        neighbors = set(G.neighbors(u))\n",
    "        for v in (neighbors-S):\n",
    "            p = P[edges.index((u, v))]\n",
    "            t[v] += 1\n",
    "            dd[v] = d[v] - 2*t[v] - (d[v] - t[v])*t[v]*p\n",
    "\n",
    "    return list(S)"
   ]
  },
  {
   "cell_type": "markdown",
   "metadata": {},
   "source": [
    "## The Algorithm: piece-by-piece"
   ]
  },
  {
   "cell_type": "markdown",
   "metadata": {},
   "source": [
    "Coding it step-by-step:"
   ]
  },
  {
   "cell_type": "markdown",
   "metadata": {},
   "source": [
    "Assigning the _ground-truth_ edge features and initializing the embeddings"
   ]
  },
  {
   "cell_type": "code",
   "execution_count": 5,
   "metadata": {},
   "outputs": [],
   "source": [
    "for e in edges:\n",
    "    n1, n2 = e\n",
    "    alpha_t = rng.uniform(size=4)\n",
    "    alpha_t /= np.linalg.norm(alpha_t)\n",
    "    beta_t = rng.uniform(size=4)\n",
    "    beta_t /= np.linalg.norm(beta_t)\n",
    "    \n",
    "    G.edges[n1,n2]['xt'] = np.concatenate((alpha_t, beta_t))\n",
    "\n",
    "    alpha = rng.uniform(size=4)\n",
    "    alpha /= np.linalg.norm(alpha)\n",
    "    beta = rng.uniform(size=4)\n",
    "    beta /= np.linalg.norm(beta)\n",
    "    \n",
    "    G.edges[n1,n2]['x'] = np.concatenate((alpha, beta))\n"
   ]
  },
  {
   "cell_type": "markdown",
   "metadata": {},
   "source": [
    "Initializing hyperparameters for the algorithm:"
   ]
  },
  {
   "cell_type": "code",
   "execution_count": 7,
   "metadata": {},
   "outputs": [],
   "source": [
    "sigma = 1\n",
    "C = 80\n",
    "horizon = 200\n",
    "period = 10\n",
    "alpha = 0.001\n",
    "z = 2\n",
    "\n",
    "P_hat = [0 for _ in range(len(edges))]  \n",
    "O = [0 for _ in range(len(edges))]\n",
    "B = [0 for _ in range(len(edges))]"
   ]
  },
  {
   "cell_type": "markdown",
   "metadata": {},
   "source": [
    "Sampling edges according to algorithm 2:"
   ]
  },
  {
   "cell_type": "code",
   "execution_count": 8,
   "metadata": {},
   "outputs": [],
   "source": [
    "Cedges = [a for (a,b,c) in sample_edges(edges, C, P_hat, O)]"
   ]
  },
  {
   "cell_type": "markdown",
   "metadata": {},
   "source": [
    "Writing the kernel function"
   ]
  },
  {
   "cell_type": "code",
   "execution_count": 6,
   "metadata": {},
   "outputs": [],
   "source": [
    "f = lambda x1,x2: np.exp(-1)*(np.linalg.norm(x1-x2)**2)"
   ]
  },
  {
   "cell_type": "markdown",
   "metadata": {},
   "source": [
    "1. Contructing matrix X and Y using the sampled edges\n",
    "2. Computing the matrix $\\text{A}$, $\\text{A}^{-1}$ and $\\text{J}$ = $\\text{A}^{-1} \\hat{\\text{Y}}$"
   ]
  },
  {
   "cell_type": "code",
   "execution_count": 10,
   "metadata": {},
   "outputs": [],
   "source": [
    "X = np.array([G.edges[e]['x'] for e in Cedges])\n",
    "Y = np.array([P_hat[edges.index(e)] for e in Cedges])\n",
    "n = X.shape[0]\n",
    "A = np.array([[f(x1,x2) for x2 in X] for x1 in X]).reshape((n, n)) + (sigma**2)*np.identity(n)\n",
    "A_inv = np.linalg.inv(A)\n",
    "J = np.dot(A_inv, Y)\n",
    "\n",
    "U = [0 for _ in range(len(edges))]\n",
    "m = [0 for _ in range(len(edges))]\n",
    "var = [0 for _ in range(len(edges))]"
   ]
  },
  {
   "cell_type": "markdown",
   "metadata": {},
   "source": [
    "Computing the mean and variance for each edge using the Gaussian Process Regression"
   ]
  },
  {
   "cell_type": "code",
   "execution_count": 11,
   "metadata": {},
   "outputs": [],
   "source": [
    "for i in range(len(edges)):\n",
    "    xi = G.edges[edges[i]]['x']\n",
    "    K_i = np.array([f(xi, x1) for x1 in X]).reshape(n,1)\n",
    "    mi = np.dot(K_i.T, J)\n",
    "    vari = (sigma**2) - np.dot(K_i.T, np.dot(A_inv, K_i))\n",
    "    u = norm.cdf(mi + z*np.sqrt(vari))\n",
    "    U[i] = u\n",
    "    m[i] = mi\n",
    "    var[i] = vari"
   ]
  },
  {
   "cell_type": "code",
   "execution_count": 12,
   "metadata": {},
   "outputs": [],
   "source": [
    "U = np.array(U).reshape(-1,1)"
   ]
  },
  {
   "cell_type": "markdown",
   "metadata": {},
   "source": [
    "Generating the seed set using the UCBs. "
   ]
  },
  {
   "cell_type": "code",
   "execution_count": 13,
   "metadata": {},
   "outputs": [],
   "source": [
    "S = oracle(G, 30, U)"
   ]
  },
  {
   "cell_type": "markdown",
   "metadata": {},
   "source": [
    "Simulating the information diffusion process using this seed set:"
   ]
  },
  {
   "cell_type": "code",
   "execution_count": 14,
   "metadata": {},
   "outputs": [],
   "source": [
    "total_influenced_nodes, observed_edges, O, B = influence_count(G, S, edges, O, B)"
   ]
  },
  {
   "cell_type": "markdown",
   "metadata": {},
   "source": [
    "Updating the probabilities and edge embeddings for observed edges:"
   ]
  },
  {
   "cell_type": "code",
   "execution_count": 15,
   "metadata": {},
   "outputs": [],
   "source": [
    "for i in observed_edges:\n",
    "    P_hat[i] = B[i]/O[i]\n",
    "    xi = G.edges[edges[i]]['x']\n",
    "    delta = (m[i] - P_hat[i])*2*np.exp(-1)*np.dot((np.array([xi for _ in range(X.shape[0])])-X).T, J.reshape(-1,1))\n",
    "    G.edges[edges[i]]['x'] = xi - alpha*delta"
   ]
  },
  {
   "cell_type": "markdown",
   "metadata": {},
   "source": [
    "We also need to update the Kernel matrix periodically:"
   ]
  },
  {
   "cell_type": "code",
   "execution_count": 19,
   "metadata": {},
   "outputs": [],
   "source": [
    "if horizon % period == 0:\n",
    "    Cedges = [a for (a,b,c) in sample_edges(edges, C, P_hat, O)]\n",
    "    X = np.array([G.edges[e]['x'] for e in Cedges])\n",
    "    Y = np.array([P_hat[edges.index(e)] for e in Cedges])\n",
    "    n = X.shape[0]\n",
    "    A = np.array([[f(x1,x2) for x2 in X] for x1 in X]).reshape((n, n)) + (sigma**2)*np.identity(n)\n",
    "    A_inv = np.linalg.inv(A)\n",
    "    J = np.dot(A_inv, Y)"
   ]
  },
  {
   "cell_type": "markdown",
   "metadata": {},
   "source": [
    "## Patching Everything Up:"
   ]
  },
  {
   "cell_type": "code",
   "execution_count": 7,
   "metadata": {},
   "outputs": [],
   "source": [
    "sigma = 1\n",
    "C = 80\n",
    "horizon = 200\n",
    "period = 10\n",
    "alpha = 0.001\n",
    "z = 2\n",
    "\n",
    "P_hat = [0 for _ in range(len(edges))]  \n",
    "O = [0 for _ in range(len(edges))]\n",
    "B = [0 for _ in range(len(edges))]\n",
    "\n",
    "Cedges = [a for (a,b,c) in sample_edges(edges, C, P_hat, O)]\n",
    "\n",
    "X = np.array([G.edges[e]['x'] for e in Cedges])\n",
    "Y = np.array([P_hat[edges.index(e)] for e in Cedges])\n",
    "n = X.shape[0]\n",
    "A = np.array([[f(x1,x2) for x2 in X] for x1 in X]).reshape((n, n)) + (sigma**2)*np.identity(n)\n",
    "A_inv = np.linalg.inv(A)\n",
    "J = np.dot(A_inv, Y)\n",
    "\n",
    "U = [0 for _ in range(len(edges))]\n",
    "m = [0 for _ in range(len(edges))]\n",
    "var = [0 for _ in range(len(edges))]"
   ]
  },
  {
   "cell_type": "code",
   "execution_count": 8,
   "metadata": {},
   "outputs": [],
   "source": [
    "results = []"
   ]
  },
  {
   "cell_type": "code",
   "execution_count": 9,
   "metadata": {},
   "outputs": [
    {
     "name": "stderr",
     "output_type": "stream",
     "text": [
      "C:\\Users\\Tushar\\AppData\\Local\\Temp/ipykernel_20108/2341370888.py:7: RuntimeWarning: invalid value encountered in sqrt\n",
      "  u = norm.cdf(mi + z*np.sqrt(vari))\n",
      "C:\\Users\\Tushar\\AppData\\Local\\Packages\\PythonSoftwareFoundation.Python.3.8_qbz5n2kfra8p0\\LocalCache\\local-packages\\Python38\\site-packages\\scipy\\stats\\_distn_infrastructure.py:1956: RuntimeWarning: invalid value encountered in greater_equal\n",
      "  cond2 = (x >= np.asarray(_b)) & cond0\n"
     ]
    }
   ],
   "source": [
    "for epoch in range(horizon):\n",
    "    for i in range(len(edges)):\n",
    "        xi = G.edges[edges[i]]['x']\n",
    "        K_i = np.array([f(xi, x1) for x1 in X]).reshape(n,1)\n",
    "        mi = np.dot(K_i.T, J)\n",
    "        vari = max(0, (sigma**2) - np.dot(K_i.T, np.dot(A_inv, K_i)))\n",
    "        u = norm.cdf(mi + z*np.sqrt(vari))\n",
    "        U[i] = u\n",
    "        m[i] = mi\n",
    "        var[i] = vari\n",
    "\n",
    "    S = oracle(G, 30, U)\n",
    "    total_influenced_nodes, observed_edges, O, B = influence_count(G, S, edges, O, B)\n",
    "    results.append(total_influenced_nodes)\n",
    "\n",
    "    for i in observed_edges:\n",
    "        P_hat[i] = B[i]/O[i]\n",
    "        xi = G.edges[edges[i]]['x']\n",
    "        delta = (m[i] - P_hat[i])*2*np.exp(-1)*np.dot((np.array([xi for _ in range(X.shape[0])])-X).T, J)\n",
    "        G.edges[edges[i]]['x'] = xi - alpha*delta\n",
    "\n",
    "    if horizon % period == 0:\n",
    "        Cedges = [a for (a,b,c) in sample_edges(edges, C, P_hat, O)]\n",
    "        X = np.array([G.edges[e]['x'] for e in Cedges])\n",
    "        Y = np.array([P_hat[edges.index(e)] for e in Cedges])\n",
    "        n = X.shape[0]\n",
    "        A = np.array([[f(x1,x2) for x2 in X] for x1 in X]).reshape((n, n)) + (sigma**2)*np.identity(n)\n",
    "        A_inv = np.linalg.inv(A)\n",
    "        J = np.dot(A_inv, Y)"
   ]
  },
  {
   "cell_type": "code",
   "execution_count": 10,
   "metadata": {},
   "outputs": [
    {
     "data": {
      "text/plain": [
       "[<matplotlib.lines.Line2D at 0x1d2bf9eb5e0>]"
      ]
     },
     "execution_count": 10,
     "metadata": {},
     "output_type": "execute_result"
    },
    {
     "data": {
      "image/png": "[encoded data removed]",
      "text/plain": [
       "<Figure size 432x288 with 1 Axes>"
      ]
     },
     "metadata": {
      "needs_background": "light"
     },
     "output_type": "display_data"
    }
   ],
   "source": [
    "plt.plot(results)"
   ]
  }
 ],
 "metadata": {
  "interpreter": {
   "hash": "a3a599584a827595ed2b43e83eeb56630276a85ab0e80f75e90a8335136f15b9"
  },
  "kernelspec": {
   "display_name": "Python 3.8.10 64-bit (windows store)",
   "language": "python",
   "name": "python3"
  },
  "language_info": {
   "codemirror_mode": {
    "name": "ipython",
    "version": 3
   },
   "file_extension": ".py",
   "mimetype": "text/x-python",
   "name": "python",
   "nbconvert_exporter": "python",
   "pygments_lexer": "ipython3",
   "version": "3.8.10"
  },
  "orig_nbformat": 4
 },
 "nbformat": 4,
 "nbformat_minor": 2
}
