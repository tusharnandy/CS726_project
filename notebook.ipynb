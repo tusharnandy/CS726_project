{
 "cells": [
  {
   "cell_type": "markdown",
   "metadata": {},
   "source": [
    "# DegreeDiscountIC (a.k.a the ORACLE)"
   ]
  },
  {
   "cell_type": "code",
   "execution_count": 104,
   "metadata": {},
   "outputs": [],
   "source": [
    "import networkx as nx\n",
    "import numpy as np\n",
    "from numpy.random import default_rng\n",
    "rng = default_rng(12345)\n",
    "import matplotlib.pyplot as plt\n",
    "import sys; sys.path.append(\"model-independent-cascade\\src\")\n",
    "from influence import influence_count"
   ]
  },
  {
   "cell_type": "markdown",
   "metadata": {},
   "source": [
    "Generating a random graph to test-run the model"
   ]
  },
  {
   "cell_type": "code",
   "execution_count": 105,
   "metadata": {},
   "outputs": [],
   "source": [
    "G = nx.fast_gnp_random_graph(600, 0.1, directed=True)\n",
    "edges = list(G.edges())"
   ]
  },
  {
   "cell_type": "code",
   "execution_count": 106,
   "metadata": {},
   "outputs": [],
   "source": [
    "def sample_edges(edges, C, P_hat, O):\n",
    "    epo = [(edges[i], P_hat[i], O[i]) for i in range(len(edges))]\n",
    "    E = [[] for i in range(10)]\n",
    "    for i in range(len(edges)):\n",
    "        index = int(epo[i][1]/0.1)\n",
    "        E[index].append(epo[i])\n",
    "    E_hat = []\n",
    "    for i in range(10):\n",
    "        E[i].sort(key=lambda tuple: tuple[2], reverse=True)\n",
    "        c_i = int(len(E[i])/(len(edges))*C)+1\n",
    "        E_hat = E_hat + E[i][:c_i]\n",
    "\n",
    "    return E_hat"
   ]
  },
  {
   "cell_type": "code",
   "execution_count": 107,
   "metadata": {},
   "outputs": [],
   "source": [
    "def degdisIC(G, k, P_hat):\n",
    "    S = set({})\n",
    "    temp = list(nx.degree(G))\n",
    "    dd = d = [d for (_,d) in temp]\n",
    "    t = [0 for i in range(len(d))]\n",
    "    p = 0.01\n",
    "\n",
    "    for _ in range(k):\n",
    "        u = np.argmax(dd)\n",
    "        dd[u] = -1\n",
    "        S.add(u)\n",
    "        neighbors = set(G.neighbors(u))\n",
    "        for v in (neighbors-S):\n",
    "            t[v] += 1\n",
    "            dd[v] = d[v] - 2*t[v] - (d[v] - t[v])*t[v]*p\n",
    "\n",
    "    return list(S)"
   ]
  },
  {
   "cell_type": "markdown",
   "metadata": {},
   "source": [
    "## The Algorithm"
   ]
  },
  {
   "cell_type": "markdown",
   "metadata": {},
   "source": [
    "Coding it step-by-step:"
   ]
  },
  {
   "cell_type": "markdown",
   "metadata": {},
   "source": [
    "Assigning the _ground-truth_ edge features and initializing the embeddings"
   ]
  },
  {
   "cell_type": "code",
   "execution_count": 108,
   "metadata": {},
   "outputs": [],
   "source": [
    "for e in edges:\n",
    "    n1, n2 = e\n",
    "    alpha_t = rng.uniform(size=4)\n",
    "    alpha_t /= np.linalg.norm(alpha_t)\n",
    "    beta_t = rng.uniform(size=4)\n",
    "    beta_t /= np.linalg.norm(beta_t)\n",
    "    \n",
    "    G.edges[n1,n2]['xt'] = np.concatenate((alpha_t, beta_t))\n",
    "\n",
    "    alpha = rng.uniform(size=4)\n",
    "    alpha /= np.linalg.norm(alpha)\n",
    "    beta = rng.uniform(size=4)\n",
    "    beta /= np.linalg.norm(beta)\n",
    "    \n",
    "    G.edges[n1,n2]['x'] = np.concatenate((alpha, beta))\n"
   ]
  },
  {
   "cell_type": "code",
   "execution_count": 110,
   "metadata": {},
   "outputs": [],
   "source": [
    "sigma = 1\n",
    "C = 80\n",
    "z = 0.95\n",
    "period = 20 \n",
    "P_hat = [0 for _ in range(len(edges))]  \n",
    "O = [0 for _ in range(len(edges))]"
   ]
  },
  {
   "cell_type": "code",
   "execution_count": 114,
   "metadata": {},
   "outputs": [],
   "source": [
    "Cedges = [a for (a,b,c) in sample_edges(edges, C, P_hat, O)]"
   ]
  },
  {
   "cell_type": "code",
   "execution_count": 112,
   "metadata": {},
   "outputs": [],
   "source": [
    "f = lambda x1,x2: np.exp(-1)*np.linalg.norm(x1-x2)"
   ]
  },
  {
   "cell_type": "code",
   "execution_count": 113,
   "metadata": {},
   "outputs": [
    {
     "data": {
      "text/plain": [
       "((0, 15), 0, 0)"
      ]
     },
     "execution_count": 113,
     "metadata": {},
     "output_type": "execute_result"
    }
   ],
   "source": [
    "Cedges[0]"
   ]
  }
 ],
 "metadata": {
  "interpreter": {
   "hash": "a3a599584a827595ed2b43e83eeb56630276a85ab0e80f75e90a8335136f15b9"
  },
  "kernelspec": {
   "display_name": "Python 3.8.10 64-bit (windows store)",
   "language": "python",
   "name": "python3"
  },
  "language_info": {
   "codemirror_mode": {
    "name": "ipython",
    "version": 3
   },
   "file_extension": ".py",
   "mimetype": "text/x-python",
   "name": "python",
   "nbconvert_exporter": "python",
   "pygments_lexer": "ipython3",
   "version": "3.8.10"
  },
  "orig_nbformat": 4
 },
 "nbformat": 4,
 "nbformat_minor": 2
}
