{
 "cells": [
  {
   "cell_type": "markdown",
   "metadata": {},
   "source": [
    "# DegreeDiscountIC (a.k.a the ORACLE)"
   ]
  },
  {
   "cell_type": "code",
   "execution_count": 1,
   "metadata": {},
   "outputs": [],
   "source": [
    "import networkx as nx\n",
    "import numpy as np\n",
    "from numpy.random import default_rng\n",
    "rng = default_rng(12345)\n",
    "import matplotlib.pyplot as plt\n",
    "import sys; sys.path.append(\"model-independent-cascade\\src\")\n",
    "from influence import influence_count\n",
    "from scipy.stats import norm"
   ]
  },
  {
   "cell_type": "markdown",
   "metadata": {},
   "source": [
    "Generating a random graph to test-run the model"
   ]
  },
  {
   "cell_type": "code",
   "execution_count": 2,
   "metadata": {},
   "outputs": [],
   "source": [
    "G = nx.fast_gnp_random_graph(600, 0.1, directed=True)\n",
    "edges = list(G.edges())"
   ]
  },
  {
   "cell_type": "code",
   "execution_count": 3,
   "metadata": {},
   "outputs": [],
   "source": [
    "def sample_edges(edges, C, P_hat, O):\n",
    "    epo = [(edges[i], P_hat[i], O[i]) for i in range(len(edges))]\n",
    "    E = [[] for i in range(10)]\n",
    "    for i in range(len(edges)):\n",
    "        index = int(epo[i][1]/0.1)\n",
    "        E[index].append(epo[i])\n",
    "    E_hat = []\n",
    "    for i in range(10):\n",
    "        E[i].sort(key=lambda tuple: tuple[2], reverse=True)\n",
    "        c_i = int(len(E[i])/(len(edges))*C)+1\n",
    "        E_hat = E_hat + E[i][:c_i]\n",
    "\n",
    "    return E_hat"
   ]
  },
  {
   "cell_type": "code",
   "execution_count": 50,
   "metadata": {},
   "outputs": [],
   "source": [
    "def oracle(G, k, P):\n",
    "    S = set({})\n",
    "    temp = list(nx.degree(G))\n",
    "    dd = d = [d for (_,d) in temp]\n",
    "    t = [0 for _ in range(len(d))]\n",
    "\n",
    "    for _ in range(k):\n",
    "        u = np.argmax(dd)\n",
    "        dd[u] = -1\n",
    "        S.add(u)\n",
    "        neighbors = set(G.neighbors(u))\n",
    "        for v in (neighbors-S):\n",
    "            p = P[edges.index((u, v))]\n",
    "            t[v] += 1\n",
    "            dd[v] = d[v] - 2*t[v] - (d[v] - t[v])*t[v]*p\n",
    "\n",
    "    return list(S)"
   ]
  },
  {
   "cell_type": "markdown",
   "metadata": {},
   "source": [
    "## The Algorithm"
   ]
  },
  {
   "cell_type": "markdown",
   "metadata": {},
   "source": [
    "Coding it step-by-step:"
   ]
  },
  {
   "cell_type": "markdown",
   "metadata": {},
   "source": [
    "Assigning the _ground-truth_ edge features and initializing the embeddings"
   ]
  },
  {
   "cell_type": "code",
   "execution_count": 5,
   "metadata": {},
   "outputs": [],
   "source": [
    "for e in edges:\n",
    "    n1, n2 = e\n",
    "    alpha_t = rng.uniform(size=4)\n",
    "    alpha_t /= np.linalg.norm(alpha_t)\n",
    "    beta_t = rng.uniform(size=4)\n",
    "    beta_t /= np.linalg.norm(beta_t)\n",
    "    \n",
    "    G.edges[n1,n2]['xt'] = np.concatenate((alpha_t, beta_t))\n",
    "\n",
    "    alpha = rng.uniform(size=4)\n",
    "    alpha /= np.linalg.norm(alpha)\n",
    "    beta = rng.uniform(size=4)\n",
    "    beta /= np.linalg.norm(beta)\n",
    "    \n",
    "    G.edges[n1,n2]['x'] = np.concatenate((alpha, beta))\n"
   ]
  },
  {
   "cell_type": "code",
   "execution_count": 18,
   "metadata": {},
   "outputs": [],
   "source": [
    "sigma = 1\n",
    "C = 80\n",
    "z = 0.95\n",
    "period = 20 \n",
    "P_hat = [0 for _ in range(len(edges))]  \n",
    "O = [0 for _ in range(len(edges))]\n",
    "z = 2"
   ]
  },
  {
   "cell_type": "code",
   "execution_count": 19,
   "metadata": {},
   "outputs": [],
   "source": [
    "Cedges = [a for (a,b,c) in sample_edges(edges, C, P_hat, O)]"
   ]
  },
  {
   "cell_type": "code",
   "execution_count": 20,
   "metadata": {},
   "outputs": [
    {
     "data": {
      "text/plain": [
       "81"
      ]
     },
     "execution_count": 20,
     "metadata": {},
     "output_type": "execute_result"
    }
   ],
   "source": [
    "len(Cedges)"
   ]
  },
  {
   "cell_type": "code",
   "execution_count": 21,
   "metadata": {},
   "outputs": [],
   "source": [
    "f = lambda x1,x2: np.exp(-1)*np.linalg.norm(x1-x2)"
   ]
  },
  {
   "cell_type": "code",
   "execution_count": 28,
   "metadata": {},
   "outputs": [],
   "source": [
    "X = np.array([G.edges[e]['x'] for e in Cedges])\n",
    "Y = np.array([P_hat[edges.index(e)] for e in Cedges])"
   ]
  },
  {
   "cell_type": "code",
   "execution_count": 29,
   "metadata": {},
   "outputs": [],
   "source": [
    "n = X.shape[0]\n",
    "A = np.array([[f(x1,x2) for x2 in X] for x1 in X]).reshape((n, n)) + np.identity(n)"
   ]
  },
  {
   "cell_type": "code",
   "execution_count": 31,
   "metadata": {},
   "outputs": [],
   "source": [
    "horizon = 200\n",
    "period = 10"
   ]
  },
  {
   "cell_type": "code",
   "execution_count": 32,
   "metadata": {},
   "outputs": [],
   "source": [
    "U = []\n",
    "A_inv = np.linalg.inv(A)\n",
    "\n",
    "for i in range(len(edges)):\n",
    "    K_i = np.array([f(G.edges[edges[i]]['x'], x1) for x1 in X]).reshape(-1,1)\n",
    "    m = np.dot(K_i.T, np.dot(A_inv, Y))\n",
    "    var = 1 - np.dot(K_i.T, np.dot(A_inv, K_i))\n",
    "    u = norm.cdf(m + z*var)\n",
    "    U.append(u)"
   ]
  },
  {
   "cell_type": "code",
   "execution_count": 45,
   "metadata": {},
   "outputs": [],
   "source": [
    "U = np.array(U).reshape(-1,1)"
   ]
  },
  {
   "cell_type": "code",
   "execution_count": 52,
   "metadata": {},
   "outputs": [],
   "source": [
    "S = oracle(G, 30, U)"
   ]
  },
  {
   "cell_type": "code",
   "execution_count": 54,
   "metadata": {},
   "outputs": [
    {
     "data": {
      "text/plain": [
       "518"
      ]
     },
     "execution_count": 54,
     "metadata": {},
     "output_type": "execute_result"
    }
   ],
   "source": [
    "S[1]"
   ]
  }
 ],
 "metadata": {
  "interpreter": {
   "hash": "a3a599584a827595ed2b43e83eeb56630276a85ab0e80f75e90a8335136f15b9"
  },
  "kernelspec": {
   "display_name": "Python 3.8.10 64-bit (windows store)",
   "language": "python",
   "name": "python3"
  },
  "language_info": {
   "codemirror_mode": {
    "name": "ipython",
    "version": 3
   },
   "file_extension": ".py",
   "mimetype": "text/x-python",
   "name": "python",
   "nbconvert_exporter": "python",
   "pygments_lexer": "ipython3",
   "version": "3.8.10"
  },
  "orig_nbformat": 4
 },
 "nbformat": 4,
 "nbformat_minor": 2
}
